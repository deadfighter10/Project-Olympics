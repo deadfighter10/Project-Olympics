{
 "cells": [
  {
   "cell_type": "markdown",
   "source": [
    "# Spam SMS-ek (30 pont)"
   ],
   "metadata": {
    "id": "RmF3jHstDI4M"
   }
  },
  {
   "cell_type": "markdown",
   "source": [
    "**A notebookot importáld be a Colab rendszerbe, majd abban dolgozz!**"
   ],
   "metadata": {
    "id": "gseGaYv5M71T"
   }
  },
  {
   "cell_type": "markdown",
   "source": [
    "**Versenyző neve: [ÍRD IDE A NEVED]**"
   ],
   "metadata": {
    "id": "Jk2VWAQDM5ja"
   }
  },
  {
   "cell_type": "markdown",
   "source": [
    "Intelligens János egyik nap arra ébredt, hogy ezernél is több SMS áraszotta el a régi Nokia 3310-esét. Azt szeretné megtudni, hogy mely SMS-ekkel kell foglalkoznia és melyek azok, amelyek spamnek minősülnek.\n",
    "Segíts neki eldönteni, mely SMS-ek minősülnek spamnek!"
   ],
   "metadata": {
    "id": "yl9Yb9QgM_gy"
   }
  },
  {
   "cell_type": "markdown",
   "source": [
    "---\n",
    "# Előkészítések\n",
    "\n",
    "**Útmutatók a feladat megoldásához szükséges eszközökhöz:**\n",
    "1. [Pandas](https://pandas.pydata.org/docs/user_guide/10min.html)\n",
    "2. [Pandas Dataframe](https://pandas.pydata.org/docs/reference/api/pandas.DataFrame.html)\n",
    "3. [Tokenization](https://medium.com/@utkarsh.kant/tokenization-a-complete-guide-3f2dd56c0682)\n",
    "4. [Tokenization, Mapping and Padding](https://medium.com/@lokaregns/preparing-text-data-for-transformers-tokenization-mapping-and-padding-9fbfbce28028)\n",
    "5. [PyTorch Training/Inference](https://pytorch.org/tutorials/beginner/introyt/trainingyt.html)\n",
    "6. [PyTorch Datasets and DataLoaders](https://pytorch.org/tutorials/beginner/basics/data_tutorial.html)\n",
    "7. [Pytorch NN Module](https://pytorch.org/docs/stable/generated/torch.nn.Module.html)"
   ],
   "metadata": {
    "id": "0EDPzCvCKR9d"
   }
  },
  {
   "cell_type": "markdown",
   "source": [
    "A megoldáshoz szükséges **SMS-ek** a következő linken érhetőek el: [SMS](https://drive.google.com/file/d/1-MtzrY1JqJEfvxuSASobGOYWAoZ3NeGu/view?usp=sharing)\n",
    "\n",
    "A megoldáshoz szükséges **modell súlyok** a következő linken érhető el: [Modell](https://drive.google.com/file/d/1I7IJZ-ieEXCp-AVmrUzaFXPjLCNNLvKc/view?usp=drive_link)"
   ],
   "metadata": {
    "id": "58GWbKthKTP3"
   }
  },
  {
   "cell_type": "code",
   "source": [
    "# @title Az SMS-ek és a Modell Súlyok letöltése\n",
    "\n",
    "!gdown -qq 1-MtzrY1JqJEfvxuSASobGOYWAoZ3NeGu\n",
    "!gdown -qq 1I7IJZ-ieEXCp-AVmrUzaFXPjLCNNLvKc"
   ],
   "metadata": {
    "id": "NsnBzJLTVXTT"
   },
   "execution_count": null,
   "outputs": []
  },
  {
   "cell_type": "markdown",
   "source": [
    "## Szükséges Könyvtárak\n",
    "\n",
    "Importáltunk néhány könyvtárat a kezdéshez, de nyugodtan használhatsz bármilyen PyTorch-alapú eszközt, ha szükséges. Kérjük, vedd figyelembe, hogy a Keras és a TensorFlow **NEM ENGEDÉLYEZETT** ennek a feladatnak a megoldásához!\n"
   ],
   "metadata": {
    "id": "sPy-hKdJNN0E"
   }
  },
  {
   "cell_type": "code",
   "source": [
    "import torch\n",
    "import re\n",
    "import numpy as np\n",
    "import pandas as pd\n",
    "import torch.nn as nn\n",
    "import torch.optim as optim\n",
    "\n",
    "from torch.utils.data import DataLoader, Dataset\n",
    "from sklearn.model_selection import train_test_split\n",
    "from sklearn.preprocessing import LabelEncoder\n",
    "from collections import Counter\n",
    "from torch.nn.utils.rnn import pad_sequence"
   ],
   "metadata": {
    "id": "G77xcuJdNP0A"
   },
   "execution_count": null,
   "outputs": []
  },
  {
   "cell_type": "markdown",
   "source": [
    "## Az SMS Adathalmaz szemléltetése\n",
    "\n",
    "Az alábbi kód vizualizálja az adathalmaz számosságát és az első öt beérkezett SMS-t.\n",
    "\n",
    "Minden szöveghez tartozik egy besorolás is, ami arrra vonatkozik, hogy az adott SMS **spam** vagy **legit** (nem spam). [Pandas Dataframe](https://pandas.pydata.org/docs/reference/api/pandas.DataFrame.html)"
   ],
   "metadata": {
    "id": "7ur_JPEsZ6Ea"
   }
  },
  {
   "cell_type": "code",
   "execution_count": null,
   "metadata": {
    "id": "vRsg2T4yQMgl"
   },
   "outputs": [],
   "source": [
    "df = pd.read_csv('./sms.csv')\n",
    "print(\"Beérkezett SMS-ek száma\", len(df))\n",
    "df.head()"
   ]
  },
  {
   "cell_type": "markdown",
   "source": [
    "# 1. Feladat: Exploratív Adatelemzés (8 Pont)\n",
    "\n",
    "Az első feladatban az SMS adathalmazon szeretnénk kezdeti elemzést és adattisztítást végezni, hogy jobban megismerjük a János telefonjára érkezett üzeneteket. A feladataid a következők:\n",
    "\n",
    "1. Számold össze hány egyedi szó (token) található az adathalmazban! (1 pont)\n",
    "\n",
    "2. Számítsd ki a **spam** és **legit** kategóriába sorolt sms-ek számát! (1 pont)\n",
    "\n",
    "3. Tisztítsd meg az adathalmazt a megadott clean_text függvény segítségével! A függvényt ne módosítsd! (1 pont)\n",
    "\n",
    "4. A tisztított adatokat új Pandas oszlopként illeszd hozzá az eredeti DataFrame-hez! Vizualizáld a frissített adathalmazt! (1 pont)\n",
    "\n",
    "[Pandas](https://pandas.pydata.org/docs/user_guide/10min.html)"
   ],
   "metadata": {
    "id": "34dvhIrEQhqR"
   }
  },
  {
   "cell_type": "code",
   "execution_count": null,
   "metadata": {
    "id": "PuqPJApnQMgo"
   },
   "outputs": [],
   "source": [
    "def clean_text(text):\n",
    "    text = re.sub(r'[^\\x00-\\x7F]+', ' ', text)\n",
    "    text = re.sub(r'[^a-zA-Z0-9\\s]', '', text)\n",
    "    return text.lower()\n",
    "\n",
    "def unique_word_count():\n",
    "    raise NotImplementedError(\"This function has not been implemented yet.\")\n",
    "\n",
    "def sentiment_count():\n",
    "    raise NotImplementedError(\"This function has not been implemented yet.\")"
   ]
  },
  {
   "cell_type": "markdown",
   "source": [
    "# 2. Feladat: Adatok előkészítése (10 Pont)\n",
    "\n",
    "A második feladatban egy szótárat szeretnénk készíteni, ami minden egyes egyedi szóhoz egy számszerű értéket rendel. Ezt a folyamatot **Tokenizálás**nak hívjuk, melynek a fenti módszer az egyik legegyszerűbb formája. A feladatok megoldására akármilyen könyvtárat használhatsz! A feladataid a következők:\n",
    "\n",
    "1. Készíts egy saját Tokenizálót, ami minden szóhoz egy egyedi indexet rendel! (2 pont) [Tokenization](https://medium.com/@utkarsh.kant/tokenization-a-complete-guide-3f2dd56c0682)\n",
    "2. A Tokenizálót futtasd le a teljes adatállományon, hogy minden SMS-hez egy számsorozat reprezentációt rendelj! (1 pont)\n",
    "3. Nézd meg, hogy melyik SMS a leghosszabb, majd ahhoz igazítva üres tokenekkel töltsd fel az összes többi SMS-t, hogy egyező hosszúsági Token szekvenciákat kapj! (2 pont) [Tokenization, Mapping and Padding](https://medium.com/@lokaregns/preparing-text-data-for-transformers-tokenization-mapping-and-padding-9fbfbce28028)\n",
    "4. Az SMS-ek besorolásait tárold el bináris kódolással: `[spam = 0, legit = 1]` (1 pont)\n",
    "5. A kapott token szekvenciákat és bináris kódolású SMS besorolásokat add hozzá a kezdetleges Pandas DataFrame-hez (1 pont)"
   ],
   "metadata": {
    "id": "WaZr7aVCUDuO"
   }
  },
  {
   "cell_type": "code",
   "source": [
    "def tokenize():\n",
    "    raise NotImplementedError(\"This function has not been implemented yet.\")\n",
    "\n",
    "def build_vocab():\n",
    "    raise NotImplementedError(\"This function has not been implemented yet.\")\n",
    "\n",
    "def pad_token_sequences():\n",
    "    raise NotImplementedError(\"This function has not been implemented yet.\")\n",
    "\n",
    "def binary_encoding():\n",
    "    raise NotImplementedError(\"This function has not been implemented yet.\")"
   ],
   "metadata": {
    "id": "QLZzG1L5Gqw0"
   },
   "execution_count": null,
   "outputs": []
  },
  {
   "cell_type": "markdown",
   "source": [
    "# 3. Feladat: PyTorch Dataset készítése (3 Pont)\n",
    "\n",
    "A harmadik feladathoz egy PyTorch Dataset-et kell létrehoznod, amely képes a token szekvenciákat és a hozzájuk tartozó bináris besorolást kezelni. [PyTorch Datasets and DataLoaders](https://pytorch.org/tutorials/beginner/basics/data_tutorial.html)"
   ],
   "metadata": {
    "id": "qH3Cm7i5VI-3"
   }
  },
  {
   "cell_type": "code",
   "execution_count": null,
   "metadata": {
    "id": "H7pyszbOQMgp"
   },
   "outputs": [],
   "source": [
    "class SMSDataset(Dataset):\n",
    "    def __init__(self, sequences, labels):\n",
    "        raise NotImplementedError(\"This function has not been implemented yet.\")\n",
    "\n",
    "    def __len__(self):\n",
    "        raise NotImplementedError(\"This function has not been implemented yet.\")\n",
    "\n",
    "    def __getitem__(self, idx):\n",
    "        raise NotImplementedError(\"This function has not been implemented yet.\")"
   ]
  },
  {
   "cell_type": "markdown",
   "source": [
    "# 4. Feladat: Modell felépítése (5 Pont)\n",
    "\n",
    "A következő ábra alapján készítsd el az SMS-ek klasszifikációjához szükséges neurális háló modelljét! Ez a modell képes lesz a tokenizált szövegek feldolgozására majd osztályozni őket a spam és legit kategóriába.\n",
    "\n",
    "1. A modell létrehozása után töltsd be a súlyokat a modellbe!\n",
    "\n",
    "<a href=\"https://ibb.co/F6KF3xC\"><img src=\"https://i.ibb.co/b1PkmWD/net-emb.png\" alt=\"net-emb\" border=\"0\"></a>\n",
    "\n",
    "A `vocab size` az egyedi tokenek száma (9476 + PAD token = 9477), az `output_dim` pedig a lehetséges osztályok száma (`spam`, `legit`). (4 pont)\n",
    "\n",
    "[Pytorch NN Module](https://pytorch.org/docs/stable/generated/torch.nn.Module.html)\n",
    "\n",
    "2. Töltsd be a modellsúlyokat az elkészített modellbe a `jános_email_modell.pth` nevű modellfájl segítségével! (1 pont) ([Pytorch Loading Weights](https://pytorch.org/tutorials/beginner/basics/saveloadrun_tutorial.html#:~:text=To%20load%20model%20weights%2C%20you,parameters%20using%20load_state_dict()%20method.&text=be%20sure%20to%20call%20model,normalization%20layers%20to%20evaluation%20mode))"
   ],
   "metadata": {
    "id": "OP-tdWGyWqRh"
   }
  },
  {
   "cell_type": "code",
   "execution_count": null,
   "metadata": {
    "id": "zaLSSIYTQMgs"
   },
   "outputs": [],
   "source": [
    "EMBEDDING_DIM = 16\n",
    "\n",
    "class SMSModel(nn.Module):\n",
    "    def __init__(self, vocab_size, embedding_dim, output_dim):\n",
    "        super(SMSModel, self).__init__()\n",
    "        raise NotImplementedError(\"This function has not been implemented yet.\")\n",
    "\n",
    "    def forward(self, x):\n",
    "        raise NotImplementedError(\"This function has not been implemented yet.\")\n",
    "\n",
    "\n",
    "def load_weights():\n",
    "    raise NotImplementedError(\"This function has not been implemented yet.\")"
   ]
  },
  {
   "cell_type": "markdown",
   "source": [
    "# 5. Feladat: Modell tesztelése (4 Pont)\n",
    "\n",
    "János telefonjára ebben a pillanatban a következő SMS érkezett be:\n",
    "\n",
    "`Hey, János. I have a crazy hiking opportunity for you in the best place on Earth, the Himalayas. I can be your hiking partner right away, just send me your bank information and personal details, and let's get started.`\n",
    "\n",
    "1. Segíts neki eldönteni, hogy a kapott üzenet spam üzenet vagy sem! (2 pont)\n",
    "2. Küldj üzenetet Jánosnak, próbálj olyan üzenetet írni, amit rosszindulatú szándékkal hozol létre (`spam`), viszont a modell valósnak (`legit`) fogja osztályozni! (2 pont)\n",
    "\n",
    "[PyTorch Training/Inference](https://pytorch.org/tutorials/beginner/introyt/trainingyt.html)"
   ],
   "metadata": {
    "id": "XhVgDbxrZ_HB"
   }
  },
  {
   "cell_type": "code",
   "execution_count": null,
   "metadata": {
    "execution": {
     "iopub.execute_input": "2023-07-27T05:30:11.562294Z",
     "iopub.status.busy": "2023-07-27T05:30:11.562048Z",
     "iopub.status.idle": "2023-07-27T05:30:11.619336Z",
     "shell.execute_reply": "2023-07-27T05:30:11.618749Z"
    },
    "id": "xpKOoWgu-llD"
   },
   "outputs": [],
   "source": [
    "def predict():\n",
    "    raise NotImplementedError(\"This function has not been implemented yet.\")"
   ]
  },
  {
   "cell_type": "markdown",
   "source": [
    "---\n",
    "**A feladat végére értél**. A kész Notebook-ot töltsd le a következő módon:\n",
    "```\n",
    "File → Download → Download .ipynb\n",
    "```\n",
    "majd a **többi megoldással együtt** töltsd fel a CMS rendszerbe becsomagolva **(.zip)**."
   ],
   "metadata": {
    "id": "6-8D7hk9QhQN"
   }
  }
 ],
 "metadata": {
  "accelerator": "GPU",
  "colab": {
   "provenance": []
  },
  "kernelspec": {
   "display_name": "Python 3",
   "name": "python3"
  },
  "language_info": {
   "codemirror_mode": {
    "name": "ipython",
    "version": 3
   },
   "file_extension": ".py",
   "mimetype": "text/x-python",
   "name": "python",
   "nbconvert_exporter": "python",
   "pygments_lexer": "ipython3",
   "version": "3.8.10"
  }
 },
 "nbformat": 4,
 "nbformat_minor": 0
}
