{
 "cells": [
  {
   "cell_type": "markdown",
   "source": [
    "# Elrejtett kincs (20 pont)\n",
    "\n",
    "\n",
    "\n"
   ],
   "metadata": {
    "id": "yGGxEdhXPShf"
   }
  },
  {
   "cell_type": "markdown",
   "source": [
    "**A notebookot importáld be a Colab rendszerbe, majd abban dolgozz!**"
   ],
   "metadata": {
    "id": "jDoU0eP0B89-"
   }
  },
  {
   "cell_type": "markdown",
   "source": [
    "**Versenyző neve: [ÍRD IDE A NEVED]**"
   ],
   "metadata": {
    "id": "oTVpegUqFAEs"
   }
  },
  {
   "cell_type": "markdown",
   "source": [
    "Intelligens János egyik nap a padlásán kutatva egy régi könyvet talált. A könyvben szemet gyönyörködtető természeti csodákról láthatóak fényképek. Közelebbről megvizsgálva az egyik képet arra lett figyelmes, hogy furcsa karakterek voltak a fényképre nyomtatva.\n",
    "\n",
    "Segíts Intelligens Jánosnak a fényképeken található karakterek értelmezésében és add meg neki, hogy melyik földrajzi koordináta olvasható ki a fényképeken található adatokat összeépítve!\n",
    "\n",
    "**Minta kimenet (helytelen válasz, csak a formátumra figyelj):**\n",
    "\n",
    "Final Coordinate is:\n",
    " N 12° 11,504'\n",
    " E 34° 1,528'"
   ],
   "metadata": {
    "id": "Bj5PX087B_GA"
   }
  },
  {
   "cell_type": "markdown",
   "source": [
    "---\n",
    "# Előkészítések\n",
    "\n",
    "**Útmutatók a feladat megoldásához szükséges eszközökhöz:**\n",
    "\n",
    "1. [EasyOCR](https://medium.com/@adityamahajan.work/easyocr-a-comprehensive-guide-5ff1cb850168)\n",
    "2. [PyTorch Datasets and DataLoaders](https://pytorch.org/tutorials/beginner/basics/data_tutorial.html)\n",
    "3. [PyTorch Transforms](https://pytorch.org/vision/main/transforms.html)\n",
    "4. [PyTorch Training/Inference](https://pytorch.org/tutorials/beginner/introyt/trainingyt.html)\n"
   ],
   "metadata": {
    "id": "OfewKbs1Ksfh"
   }
  },
  {
   "cell_type": "code",
   "source": [
    "# @title Függőségek Telepítése\n",
    "!pip install -qq easyocr"
   ],
   "metadata": {
    "id": "NTcPDZ22LWii",
    "cellView": "form",
    "colab": {
     "base_uri": "https://localhost:8080/"
    },
    "outputId": "d5c491e4-030e-46c9-c4a7-ecf7f7f5eed5"
   },
   "execution_count": null,
   "outputs": [
    {
     "output_type": "stream",
     "name": "stdout",
     "text": [
      "\u001B[2K     \u001B[90m━━━━━━━━━━━━━━━━━━━━━━━━━━━━━━━━━━━━━━━━\u001B[0m \u001B[32m2.9/2.9 MB\u001B[0m \u001B[31m13.1 MB/s\u001B[0m eta \u001B[36m0:00:00\u001B[0m\n",
      "\u001B[2K     \u001B[90m━━━━━━━━━━━━━━━━━━━━━━━━━━━━━━━━━━━━━━━━\u001B[0m \u001B[32m908.3/908.3 kB\u001B[0m \u001B[31m23.0 MB/s\u001B[0m eta \u001B[36m0:00:00\u001B[0m\n",
      "\u001B[2K     \u001B[90m━━━━━━━━━━━━━━━━━━━━━━━━━━━━━━━━━━━━━━━━\u001B[0m \u001B[32m307.2/307.2 kB\u001B[0m \u001B[31m10.9 MB/s\u001B[0m eta \u001B[36m0:00:00\u001B[0m\n",
      "\u001B[2K     \u001B[90m━━━━━━━━━━━━━━━━━━━━━━━━━━━━━━━━━━━━━━━━\u001B[0m \u001B[32m21.3/21.3 MB\u001B[0m \u001B[31m48.6 MB/s\u001B[0m eta \u001B[36m0:00:00\u001B[0m\n",
      "\u001B[?25h"
     ]
    }
   ]
  },
  {
   "cell_type": "markdown",
   "source": [
    "**A megoldáshoz szükséges képek a következő linken érhetőek el:** [Fényképezőgép](https://drive.google.com/file/d/1p6ikCp62HoxE0BSHwoO8zhNJC1RbxbzC/view?usp=share_link)"
   ],
   "metadata": {
    "id": "yFlRyw2QV0y8"
   }
  },
  {
   "cell_type": "code",
   "source": [
    "# @title Képek Letöltése\n",
    "\n",
    "!gdown -qq 1p6ikCp62HoxE0BSHwoO8zhNJC1RbxbzC\n",
    "!unzip -qq hegyek.zip -d hegyek\n",
    "!rm -rf hegyek.zip"
   ],
   "metadata": {
    "id": "I_TuMRp6O1Wg",
    "cellView": "form"
   },
   "execution_count": null,
   "outputs": []
  },
  {
   "cell_type": "markdown",
   "source": [
    "## Szükséges Könyvtárak\n",
    "\n",
    "Importáltunk néhány könyvtárat a kezdéshez, de nyugodtan használhatsz bármilyen PyTorch-alapú eszközt, ha szükséges. Kérjük, vedd figyelembe, hogy a Keras és a TensorFlow **NEM ENGEDÉLYEZETT** ennek a feladatnak a megoldásához!"
   ],
   "metadata": {
    "id": "JI0MUFu7LwpM"
   }
  },
  {
   "cell_type": "code",
   "execution_count": null,
   "metadata": {
    "id": "gD9jg1S-UXlI"
   },
   "outputs": [],
   "source": [
    "import os\n",
    "import easyocr\n",
    "import torch\n",
    "import numpy as np\n",
    "\n",
    "import matplotlib.pyplot as plt\n",
    "import matplotlib.patches as patches\n",
    "\n",
    "from PIL import Image\n",
    "\n",
    "from torch.utils.data import Dataset, DataLoader\n",
    "from torchvision import transforms, datasets\n",
    "\n",
    "plt.style.use('ggplot')\n",
    "device = torch.device(\"cuda\" if torch.cuda.is_available() else \"cpu\")"
   ]
  },
  {
   "cell_type": "markdown",
   "source": [
    "## EasyOCR inicializálása\n",
    "\n",
    "Az Easy OCR csomag egy optikai karakterfelismerő eszköz, amelyet a szöveges információk képekből történő kinyerésére használnak. Mi előkeszítettük számodra a fő csomagot. A feladat megoldásához minden további használati részletet, funkciót és átfogó leírást megtalálsz következő oldalon: [EasyOCR](https://medium.com/@adityamahajan.work/easyocr-a-comprehensive-guide-5ff1cb850168)"
   ],
   "metadata": {
    "id": "7_fU3by4jmF3"
   }
  },
  {
   "cell_type": "code",
   "source": [
    "reader = easyocr.Reader(['en'])"
   ],
   "metadata": {
    "id": "C7GBaTzWXJHU"
   },
   "execution_count": null,
   "outputs": []
  },
  {
   "cell_type": "markdown",
   "source": [
    "# 1. Feladat: PyTorch Dataset készítése (4 Pont)\n",
    "\n",
    "Az első feladatban egy PyTorch Datasetet szeretnénk készíteni, ami képes a fényképezőn lévő képek kezelésére. A feladataid a következők:\n",
    "\n",
    "1. Készíts egy PyTorch Datasetet a megadott minta alapján! [PyTorch Dataset](https://pytorch.org/tutorials/beginner/basics/data_tutorial.html)\n",
    "\n",
    "2. Készítsd fel az adathalmaz kezelődet, hogy a későbbiekben képtranszformációkat is tudjon majd kezelni!"
   ],
   "metadata": {
    "id": "4_OCqaz0jr_3"
   }
  },
  {
   "cell_type": "code",
   "source": [
    "class MountainDataset(Dataset):\n",
    "    def __init__(self, directory, transform=None):\n",
    "        raise NotImplementedError(\"This function has not been implemented yet.\")\n",
    "\n",
    "    def __len__(self):\n",
    "        raise NotImplementedError(\"This function has not been implemented yet.\")\n",
    "\n",
    "    def __getitem__(self, idx):\n",
    "        raise NotImplementedError(\"This function has not been implemented yet.\")"
   ],
   "metadata": {
    "id": "uL8FZPciR7eq"
   },
   "execution_count": null,
   "outputs": []
  },
  {
   "cell_type": "markdown",
   "source": [
    "# 2. Feladat (3 Pont)\n",
    "\n",
    "János azt vette észre, hogy a kamerán lévő képek a túra során **meghibásodtak**; minden egyes kép függőlegesen és vízszintesen is meg lett fordítva. A feladataid a következők:\n",
    "\n",
    "1. Készíts transzformációkat János képeinek helyes helyreállításához! [PyTorch Transforms](https://pytorch.org/vision/main/transforms.html)\n",
    "\n",
    "2. Példányosíts egy adathalmazt, és konfigurálj egy DataLoader-t 1-es batch mérettel! Ügyelj arra, hogy a képek véletlenszerű sorrendben töltődjenek be! [PyTorch DataLoader](https://pytorch.org/tutorials/beginner/basics/data_tutorial.html)"
   ],
   "metadata": {
    "id": "ZWNeoSeFY9uq"
   }
  },
  {
   "cell_type": "code",
   "source": [
    "def transform():\n",
    "    raise NotImplementedError(\"This function has not been implemented yet.\")"
   ],
   "metadata": {
    "id": "lXou4QvVY804"
   },
   "execution_count": null,
   "outputs": []
  },
  {
   "cell_type": "markdown",
   "source": [
    "# 3. Feladat (13 Pont)\n",
    "\n",
    "\n",
    "Az utolsó feladat megoldásához a feladatod a következő:\n",
    "\n",
    "1. A kamerán talált összes képet nézd végig, és az OCR (optikai karakterfelismerő) modell segítségével találd meg az összes rejtett koordinátát! Miután ez sikerült, írasd ki őket a feladat elején megadott formátumban!\n",
    "\n",
    "[PyTorch Training/Inference](https://pytorch.org/tutorials/beginner/introyt/trainingyt.html)"
   ],
   "metadata": {
    "id": "0lhMGnLoj0o_"
   }
  },
  {
   "cell_type": "code",
   "source": [
    "def run_inference():\n",
    "    raise NotImplementedError(\"This function has not been implemented yet.\")"
   ],
   "metadata": {
    "id": "Cv6BWuJgXqoA"
   },
   "execution_count": null,
   "outputs": []
  },
  {
   "cell_type": "markdown",
   "source": [
    "---\n",
    "**A feladat végére értél**. A kész Notebook-ot töltsd le a következő módon:\n",
    "```\n",
    "File → Download → Download .ipynb\n",
    "```\n",
    "majd a **többi megoldással együtt** töltsd fel a CMS rendszerbe becsomagolva **(.zip)**."
   ],
   "metadata": {
    "id": "yqCvdWRvABXQ"
   }
  }
 ],
 "metadata": {
  "kernelspec": {
   "display_name": "Python 3",
   "name": "python3"
  },
  "language_info": {
   "codemirror_mode": {
    "name": "ipython",
    "version": 3
   },
   "file_extension": ".py",
   "mimetype": "text/x-python",
   "name": "python",
   "nbconvert_exporter": "python",
   "pygments_lexer": "ipython3",
   "version": "3.8.10"
  },
  "orig_nbformat": 4,
  "colab": {
   "provenance": [],
   "gpuType": "T4"
  },
  "accelerator": "GPU"
 },
 "nbformat": 4,
 "nbformat_minor": 0
}
