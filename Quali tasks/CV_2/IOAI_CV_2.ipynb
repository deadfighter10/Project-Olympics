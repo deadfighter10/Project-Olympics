{
  "cells": [
    {
      "cell_type": "markdown",
      "metadata": {
        "id": "LYcSJq1tU2dY"
      },
      "source": [
        "# Intelligens János gazda (25 pont)"
      ]
    },
    {
      "cell_type": "markdown",
      "source": [
        "**A notebookot importáld be a Colab rendszerbe, majd abban dolgozz!**"
      ],
      "metadata": {
        "id": "ZkADb3CqGPcg"
      }
    },
    {
      "cell_type": "markdown",
      "source": [
        "**Versenyző neve: [ÍRD IDE A NEVED]**"
      ],
      "metadata": {
        "id": "G-tIAbaVGTfx"
      }
    },
    {
      "cell_type": "markdown",
      "source": [
        "Intelligens János gazda ipari kémkedésre szánja el magát, de sajnos csak a helyi nyugdíjasotthon számítógépes tanfolyamára tud beiratkozni, hogy hackerré képezze ki magát. Miután úgy érzi, hogy már ért a modern technika alapjaihoz, baráti iszogatást szervez a szomszéd gazdával, majd besurran annak dolgozószobájába. Hiányos ismereteivel az áldozat adatbázisát feltörni nem tudja, de sikerül lementenie az állatok rekordjaihoz kapcsolt profilképeket.\n",
        "\n",
        "Mivel rengeteg állatról talált képet, felbérelt téged, hogy írj neki egy scriptet, ami összesíti az illegálisan szerzett információt és felfedi Jánosnak Ferenc gazda állatállományának összetételét. Döntsd el minden képről, hogy milyen állat található rajta, majd összesítsd az állatok darabszámát az utolsó textboxban!"
      ],
      "metadata": {
        "id": "_IIXP1BiGVYa"
      }
    },
    {
      "cell_type": "markdown",
      "source": [
        "---\n",
        "# Előkészítések\n",
        "\n",
        "**Útmutatók a feladat megoldásához szükséges eszközökhöz:**\n",
        "\n",
        "1. [EfficientNet](https://pytorch.org/hub/nvidia_deeplearningexamples_efficientnet/)\n",
        "2. [PyTorch Datasets and DataLoaders](https://pytorch.org/tutorials/beginner/basics/data_tutorial.html)\n",
        "3. [PyTorch Transforms](https://pytorch.org/vision/main/transforms.html)\n",
        "4. [Pytorch Loading Weights](https://pytorch.org/tutorials/beginner/basics/saveloadrun_tutorial.html#:~:text=To%20load%20model%20weights%2C%20you,parameters%20using%20load_state_dict()%20method.&text=be%20sure%20to%20call%20model,normalization%20layers%20to%20evaluation%20mode)\n",
        "5. [PyTorch Training/Inference](https://pytorch.org/tutorials/beginner/introyt/trainingyt.html)\n",
        "6. [Torch Linear](https://pytorch.org/docs/stable/generated/torch.nn.Linear.html)"
      ],
      "metadata": {
        "id": "_b_xHHFSh1TC"
      }
    },
    {
      "cell_type": "markdown",
      "source": [
        "A megoldáshoz szükséges **képek** a következő linken érhetőek el: [Állatok Képei](https://drive.google.com/file/d/1R7_GkPvbES1TiTANJVhNVvhKFiRvCF3P/view?usp=sharing)\n",
        "\n",
        "A megoldáshoz szükséges **modell súlyok** a következő linken érhető el: [Modell](https://drive.google.com/file/d/1zP8XVsNLszjNjkCeJOnuIV48C6mWdtYZ/view?usp=share_link)"
      ],
      "metadata": {
        "id": "RWwIBZ80h54O"
      }
    },
    {
      "cell_type": "code",
      "execution_count": null,
      "metadata": {
        "id": "SZW-C5pEU45M",
        "cellView": "form"
      },
      "outputs": [],
      "source": [
        "# @title Képek és a Modell Súlyok letöltése\n",
        "\n",
        "!gdown -qq 1R7_GkPvbES1TiTANJVhNVvhKFiRvCF3P\n",
        "!gdown -qq 1zP8XVsNLszjNjkCeJOnuIV48C6mWdtYZ\n",
        "!unzip -qq állatok.zip -d állatok\n",
        "!rm -rf állatok.zip"
      ]
    },
    {
      "cell_type": "markdown",
      "source": [
        "## Szükséges Könyvtárak\n",
        "\n",
        "Importáltunk néhány könyvtárat a kezdéshez, de nyugodtan használhatsz bármilyen PyTorch-alapú eszközt, ha szükséges. Kérjük, vedd figyelembe, hogy a Keras és a TensorFlow **NEM ENGEDÉLYEZETT** ennek a feladatnak a megoldásához!"
      ],
      "metadata": {
        "id": "NZh2NN8MT-8S"
      }
    },
    {
      "cell_type": "code",
      "execution_count": null,
      "metadata": {
        "id": "TRsJk0hO-WRv"
      },
      "outputs": [],
      "source": [
        "import os\n",
        "import numpy as np\n",
        "import torch\n",
        "import torch.nn as nn\n",
        "import matplotlib.pyplot as plt\n",
        "import torchvision.models as models\n",
        "\n",
        "\n",
        "from PIL import Image\n",
        "from torch.utils.data import DataLoader, Dataset\n",
        "from torchvision import datasets, transforms\n",
        "from torchvision.models.efficientnet import EfficientNet_B2_Weights"
      ]
    },
    {
      "cell_type": "markdown",
      "source": [
        "### Intelligens János **10** különböző állatot talált a gazda számítógépen, melyekhez a következő numerikus reprezentációk társulnak:"
      ],
      "metadata": {
        "id": "T_Op_YnCGxeC"
      }
    },
    {
      "cell_type": "code",
      "source": [
        "device = 'cuda' if torch.cuda.is_available() else 'cpu'\n",
        "classes = {0: 'butterfly',\n",
        "            1: 'cat',\n",
        "            2: 'cow',\n",
        "            3: 'dog',\n",
        "            4: 'elephant',\n",
        "            5: 'hen',\n",
        "            6: 'horse',\n",
        "            7: 'sheep',\n",
        "            8: 'spider',\n",
        "            9: 'squirrel'}"
      ],
      "metadata": {
        "id": "AT7qG5hwG8_O"
      },
      "execution_count": null,
      "outputs": []
    },
    {
      "cell_type": "markdown",
      "source": [
        "# 1. Feladat: A Modell inicializálása (8 Pont)\n",
        "\n",
        "Az első feladatban a klasszifikáló modellt szeretnénk betölteni. Ehhez importáld az **EfficientNet B2** modellt ([EfficientNet](https://pytorch.org/hub/nvidia_deeplearningexamples_efficientnet/)) a PyTorch segítségével előzetesen betanított súlyokkal!\n",
        "\n",
        "```\n",
        "EfficientNet_B2_Weights.DEFAULT\n",
        "```\n",
        "\n",
        " A betöltés után fagyaszd be a betanított modell súlyait, hogy megakadályozd a modell frissítését! Ezután cseréld le a meglévő osztályozó fejet egy új osztályozó fejre a mellékelt ábrán megadottak szerint:\n",
        "\n",
        "<a href=\"https://ibb.co/Bj9931G\"><img src=\"https://i.ibb.co/FJFF3PX/network.png\" alt=\"network\" border=\"0\"></a>\n",
        "\n",
        "Az ```out``` értéke megegyezik a betenított modell klasszifikáló fejébe érkező feature-ek számával. ([Torch Linear](https://pytorch.org/docs/stable/generated/torch.nn.Linear.html), ```in_features```)\n"
      ],
      "metadata": {
        "id": "LWFtRzkaUFLP"
      }
    },
    {
      "cell_type": "code",
      "execution_count": null,
      "metadata": {
        "id": "0gWivnA1rlGY"
      },
      "outputs": [],
      "source": [
        "def make_model():\n",
        "    raise NotImplementedError(\"This function has not been implemented yet.\")"
      ]
    },
    {
      "cell_type": "markdown",
      "source": [
        "# 2. Feladat: Súlyok betöltése (1 Pont)\n",
        "\n",
        "Töltsd be a modellsúlyokat az EfficientNet B2 modellbe a `jános_modell.pth` nevű modellfájl segítségével! ([Pytorch Loading Weights](https://pytorch.org/tutorials/beginner/basics/saveloadrun_tutorial.html#:~:text=To%20load%20model%20weights%2C%20you,parameters%20using%20load_state_dict()%20method.&text=be%20sure%20to%20call%20model,normalization%20layers%20to%20evaluation%20mode))\n",
        "\n"
      ],
      "metadata": {
        "id": "csoLQkfUlo-M"
      }
    },
    {
      "cell_type": "code",
      "source": [
        "def load_weights():\n",
        "    raise NotImplementedError(\"This function has not been implemented yet.\")"
      ],
      "metadata": {
        "id": "PzdeoPIpnbdj"
      },
      "execution_count": null,
      "outputs": []
    },
    {
      "cell_type": "markdown",
      "source": [
        "# 3. Feladat: PyTorch Dataset készítése (4 Pont)\n",
        "\n",
        "A harmadik feladathoz egy PyTorch Dataset-et kell létrehoznod, amely képes a számítógépen talált képeket betölteni. Győződj meg róla, hogy a Dataset osztályod képes kezelni a képtranszformációkat is! [PyTorch Dataset](https://pytorch.org/tutorials/beginner/basics/data_tutorial.html)"
      ],
      "metadata": {
        "id": "7IOZGGKlnJIl"
      }
    },
    {
      "cell_type": "code",
      "execution_count": null,
      "metadata": {
        "id": "_rIFhJE-oa5c"
      },
      "outputs": [],
      "source": [
        "class PhotoDataset(Dataset):\n",
        "    def __init__(self, directory, transform=None):\n",
        "        raise NotImplementedError(\"This function has not been implemented yet.\")\n",
        "\n",
        "    def __len__(self):\n",
        "        raise NotImplementedError(\"This function has not been implemented yet.\")\n",
        "\n",
        "    def __getitem__(self, idx):\n",
        "        raise NotImplementedError(\"This function has not been implemented yet.\")"
      ]
    },
    {
      "cell_type": "markdown",
      "source": [
        "# 4. Feladat (2 Pont)\n",
        "\n",
        "János azt vette észre, hogy a lementett képek mérete **túl nagy** és a számítógép nem tudja megnyitni őket. Segíts neki a képeket lekicsinyíteni 224x224-es méretre [PyTorch Transforms](https://pytorch.org/vision/main/transforms.html). János normalizálni is szeretné a képeket a következő RGB csatorna adatok alapján:\n",
        "\n",
        "`mean=[0.485, 0.456, 0.406]`\n",
        "\n",
        "`std=[0.229, 0.224, 0.225]`"
      ],
      "metadata": {
        "id": "IHSlY4rJnXLp"
      }
    },
    {
      "cell_type": "code",
      "source": [
        "def apply_transforms():\n",
        "    raise NotImplementedError(\"This function has not been implemented yet.\")"
      ],
      "metadata": {
        "id": "X91zzmUpKt-J"
      },
      "execution_count": null,
      "outputs": []
    },
    {
      "cell_type": "markdown",
      "source": [
        "# 5. Feladat (10 Pont)\n",
        "\n",
        "Az utolsó feladathoz a számítógépen talált összes képet nézd végig, és futtasd le a kész modellen! Számold össze hány állatról talált képet János az akciója során a **következő formátumban**:\n",
        "\n",
        "```\n",
        "állat_1 = x\n",
        "állat_2 = y\n",
        ".\n",
        ".\n",
        ".\n",
        "állat_n = z\n",
        "```\n",
        "[PyTorch Training/Inference](https://pytorch.org/tutorials/beginner/introyt/trainingyt.html)"
      ],
      "metadata": {
        "id": "BKaJ_IVpUKrV"
      }
    },
    {
      "cell_type": "code",
      "source": [
        "def run_inference()\n",
        "    raise NotImplementedError(\"This function has not been implemented yet.\")"
      ],
      "metadata": {
        "id": "sJuss-2uK9j6"
      },
      "execution_count": null,
      "outputs": []
    },
    {
      "cell_type": "markdown",
      "source": [
        "---\n",
        "**A feladat végére értél**. A kész Notebook-ot töltsd le a következő módon:\n",
        "```\n",
        "File → Download → Download .ipynb\n",
        "```\n",
        "majd a **többi megoldással együtt** töltsd fel a CMS rendszerbe becsomagolva **(.zip)**."
      ],
      "metadata": {
        "id": "U7gJ-k-dCNWx"
      }
    }
  ],
  "metadata": {
    "accelerator": "GPU",
    "colab": {
      "gpuType": "T4",
      "provenance": []
    },
    "kernelspec": {
      "display_name": "Python 3",
      "name": "python3"
    },
    "language_info": {
      "name": "python"
    }
  },
  "nbformat": 4,
  "nbformat_minor": 0
}